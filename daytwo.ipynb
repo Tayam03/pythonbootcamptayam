{
 "cells": [
  {
   "cell_type": "code",
   "execution_count": 1,
   "metadata": {},
   "outputs": [
    {
     "name": "stdout",
     "output_type": "stream",
     "text": [
      " python python python python python python python python python python python python python python python python python python python python python python python python python python python python python python python python python python python python python python python python python python python python python python python python python python python python python python python python python python python python python python python python python python python python python python python python python python python python python python python python python python python python python python python python python python python python python python python python python python python python\n"
     ]
    }
   ],
   "source": [
    "print(\" python\" *100)"
   ]
  },
  {
   "cell_type": "code",
   "execution_count": 2,
   "metadata": {},
   "outputs": [
    {
     "name": "stdout",
     "output_type": "stream",
     "text": [
      "Please choose the number of tries you want (it has to be from 1 to 10, and if its a 0 it will be random): 1\n",
      "Enter a number between 0 and 10: 1\n",
      "Number too low\n",
      "tries left 0\n",
      "try again guess a number between 0 and 10: 2\n",
      "game over\n",
      "your remaining tries = 0\n"
     ]
    }
   ],
   "source": [
    "import random\n",
    "mynum = random.randrange(11)\n",
    "counter = int(input(\"Please choose the number of tries you want (it has to be from 1 to 10, and if its a 0 it will be random): \"))\n",
    "while counter == 0:\n",
    "    counter = random.randrange(11)\n",
    "    if counter > 0 :\n",
    "        counter = counter \n",
    "    elif counter <= 10:\n",
    "        counter = counter \n",
    "    else :\n",
    "        print (\"You have choosen an invalid number of tries \")\n",
    "guess = int(input(\"Enter a number between 0 and 10: \"))\n",
    "while guess != mynum and counter == counter:\n",
    "    if counter == 0 :\n",
    "        break\n",
    "    elif guess < mynum:\n",
    "        print(\"Number too low\")\n",
    "        print(\"tries left\",counter - 1)\n",
    "    elif guess > mynum:\n",
    "         print(\"Number too high\")\n",
    "         print(\"tries left\",counter - 1)\n",
    "    else:\n",
    "        print(\"You have choosen an invalid number\")\n",
    "    guess =  int(input(\"try again guess a number between 0 and 10: \"))   \n",
    "    counter = counter - 1 \n",
    "if guess == mynum:\n",
    "    print (\"You won\")\n",
    "else :\n",
    "    print (\"game over\")\n",
    "print(\"your remaining tries =\",counter )\n"
   ]
  },
  {
   "cell_type": "code",
   "execution_count": null,
   "metadata": {},
   "outputs": [],
   "source": [
    "import turtle \n",
    "turtle.shape('turtle')\n",
    "x =8\n",
    "for x  in range (60):\n",
    "    for i in range(4):\n",
    "        turtle.forward(100)\n",
    "        turtle.right(90)\n",
    "    turtle.right(5)\n"
   ]
  },
  {
   "cell_type": "code",
   "execution_count": 4,
   "metadata": {},
   "outputs": [],
   "source": [
    "import turtle\n",
    "turtle.width(2)\n",
    "turtle.speed(0) \n",
    "def drawSquare(t, length):\n",
    "  for i in range(4):\n",
    "    t.forward(length)\n",
    "    t.left(90)\n",
    "def drawSquareSpiral(t, num, angle, length, scale):\n",
    "  for i in range(num):\n",
    "    drawSquare(t, length)\n",
    "    t.left(angle)\n",
    "    length = scale * length\n",
    "turtle.penup()\n",
    "turtle.goto(-5, -53)\n",
    "turtle.pendown()\n",
    "drawSquareSpiral(turtle, 90, 10, 200, 0.97)\n",
    "\n"
   ]
  },
  {
   "cell_type": "code",
   "execution_count": null,
   "metadata": {},
   "outputs": [],
   "source": [
    "num1 = float(input(\"Enter number 1 \"))\n",
    "num2 = float(input(\"Enter number 2 \"))\n",
    "print (num1 + num2)"
   ]
  }
 ],
 "metadata": {
  "kernelspec": {
   "display_name": "Python 3",
   "language": "python",
   "name": "python3"
  },
  "language_info": {
   "codemirror_mode": {
    "name": "ipython",
    "version": 3
   },
   "file_extension": ".py",
   "mimetype": "text/x-python",
   "name": "python",
   "nbconvert_exporter": "python",
   "pygments_lexer": "ipython3",
   "version": "3.8.5"
  }
 },
 "nbformat": 4,
 "nbformat_minor": 4
}
