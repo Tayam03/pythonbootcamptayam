{
 "cells": [
  {
   "cell_type": "code",
   "execution_count": 1,
   "metadata": {},
   "outputs": [
    {
     "name": "stdout",
     "output_type": "stream",
     "text": [
      "Enter number 1 5.3\n",
      "Enter number 2 3.2\n",
      "8.5\n"
     ]
    }
   ],
   "source": [
    "num1 = float(input(\"Enter number 1 \"))\n",
    "num2 = float(input(\"Enter number 2 \"))\n",
    "print (num1 + num2)"
   ]
  },
  {
   "cell_type": "code",
   "execution_count": 2,
   "metadata": {},
   "outputs": [
    {
     "name": "stdout",
     "output_type": "stream",
     "text": [
      "Enter your first name :tayam\n",
      "hello  tayam\n"
     ]
    }
   ],
   "source": [
    "name = input(\"Enter your first name :\")\n",
    "print (\"hello \" , name)"
   ]
  }
 ],
 "metadata": {
  "kernelspec": {
   "display_name": "Python 3",
   "language": "python",
   "name": "python3"
  },
  "language_info": {
   "codemirror_mode": {
    "name": "ipython",
    "version": 3
   },
   "file_extension": ".py",
   "mimetype": "text/x-python",
   "name": "python",
   "nbconvert_exporter": "python",
   "pygments_lexer": "ipython3",
   "version": "3.9.1"
  }
 },
 "nbformat": 4,
 "nbformat_minor": 4
}
